{
 "cells": [
  {
   "cell_type": "markdown",
   "metadata": {},
   "source": [
    "Python List Exercises:\n",
    "                                        Chapter 3: Lists in Python\n",
    "Exercise 3-1: Names\n",
    "\n",
    "Store the names of a few of your friends in a list called names. Print each person’s name by accessing each element in the list, one at a time.                                        "
   ]
  },
  {
   "cell_type": "code",
   "execution_count": 71,
   "metadata": {},
   "outputs": [
    {
     "name": "stdout",
     "output_type": "stream",
     "text": [
      "Abdullah\n",
      "Saim\n",
      "Ahmad\n",
      "Taha\n",
      "Ibad khan\n"
     ]
    }
   ],
   "source": [
    "names:list = [\"Abdullah\",\"Saim\",\"Ahmad\",\"Taha\",\"Ibad khan\"]\n",
    "print(names[0])\n",
    "print(names[1])\n",
    "print(names[2])\n",
    "print(names[3])\n",
    "print(names[4])"
   ]
  },
  {
   "cell_type": "markdown",
   "metadata": {},
   "source": [
    "Exercise 3-2: Greetings\n",
    "Start with the list you used in Exercise 3-1, but instead of just printing each person’s name, print a message to them. The text of each message should be the same, but each message should be personalized with the person’s name."
   ]
  },
  {
   "cell_type": "code",
   "execution_count": 72,
   "metadata": {},
   "outputs": [
    {
     "name": "stdout",
     "output_type": "stream",
     "text": [
      "Good Morning! Mr.Abdullah Hope you are doing well\n",
      "Good Morning! Mr.Saim Hope you are doing well\n",
      "Good Morning! Mr.Ahmad Hope you are doing well\n",
      "Good Morning! Mr.Taha Hope you are doing well\n",
      "Good Morning! Mr.Ibad khan Hope you are doing well\n"
     ]
    }
   ],
   "source": [
    "print(f\"Good Morning! Mr.{names[0]} Hope you are doing well\")\n",
    "print(f\"Good Morning! Mr.{names[1]} Hope you are doing well\")\n",
    "print(f\"Good Morning! Mr.{names[2]} Hope you are doing well\")\n",
    "print(f\"Good Morning! Mr.{names[3]} Hope you are doing well\")\n",
    "print(f\"Good Morning! Mr.{names[4]} Hope you are doing well\")"
   ]
  },
  {
   "cell_type": "markdown",
   "metadata": {},
   "source": [
    "Exercise 3-3: Your Own List\n",
    "Think of your favorite mode of transportation, such as a motorcycle or a car, and make a list that stores several examples. Use your list to print a series of statements about these items, such as “I would like to own a Honda motorcycle.”"
   ]
  },
  {
   "cell_type": "code",
   "execution_count": 73,
   "metadata": {},
   "outputs": [
    {
     "name": "stdout",
     "output_type": "stream",
     "text": [
      "I often take a Bus for short trips.\n",
      "Flying in an Airplane is an exciting experience.\n",
      "Riding a Motorcycle feels adventurous.\n",
      "Traveling by Ship across the ocean is relaxing.\n",
      "The Subway is a fast way to commute underground.\n",
      "A Tram is perfect for exploring the city.\n"
     ]
    }
   ],
   "source": [
    "# List of favorite modes of transportation\n",
    "transports = [\"Bus\", \"Airplane\", \"Motorcycle\", \"Ship\", \"Subway\", \"Tram\"]\n",
    "\n",
    "# Printing all messages in one print function\n",
    "print(\n",
    "    f\"I often take a {transports[0]} for short trips.\\n\"\n",
    "    f\"Flying in an {transports[1]} is an exciting experience.\\n\"\n",
    "    f\"Riding a {transports[2]} feels adventurous.\\n\"\n",
    "    f\"Traveling by {transports[3]} across the ocean is relaxing.\\n\"\n",
    "    f\"The {transports[4]} is a fast way to commute underground.\\n\"\n",
    "    f\"A {transports[5]} is perfect for exploring the city.\"\n",
    ")\n"
   ]
  },
  {
   "cell_type": "markdown",
   "metadata": {},
   "source": [
    "Exercise 3-4: Guest List\n",
    "If you could invite anyone, living or deceased, to dinner, who would you invite? Make a list that includes at least three people you’d like to invite to dinner. Then use your list to print a message to each person, inviting them to dinner."
   ]
  },
  {
   "cell_type": "code",
   "execution_count": 74,
   "metadata": {},
   "outputs": [
    {
     "name": "stdout",
     "output_type": "stream",
     "text": [
      "Hello Abdullah, I would like to invite you to dinner.\n",
      "Hello Saim, please join me for dinner.\n",
      "Hello Taha, it would be great to have you at dinner.\n",
      "Hello Shahzaib, you are warmly invited to dinner.\n",
      "4\n"
     ]
    }
   ],
   "source": [
    "# List of people to invite to dinner\n",
    "guests = [\"Abdullah\", \"Saim\", \"Taha\", \"Shahzaib\"]\n",
    "\n",
    "# Printing invitation messages\n",
    "print(f\"Hello {guests[0]}, I would like to invite you to dinner.\")\n",
    "print(f\"Hello {guests[1]}, please join me for dinner.\")\n",
    "print(f\"Hello {guests[2]}, it would be great to have you at dinner.\")\n",
    "print(f\"Hello {guests[3]}, you are warmly invited to dinner.\")\n",
    "print(len(guests))\n",
    "\n"
   ]
  },
  {
   "cell_type": "markdown",
   "metadata": {},
   "source": [
    "Exercise 3-5: Changing Guest List\n"
   ]
  },
  {
   "cell_type": "code",
   "execution_count": 75,
   "metadata": {},
   "outputs": [
    {
     "name": "stdout",
     "output_type": "stream",
     "text": [
      "\n",
      "Unfortunately, Saim can't make it to the dinner.\n",
      "['Abdullah', 'Hamza', 'Taha', 'Shahzaib']\n",
      "4\n",
      "\n",
      "Hello Abdullah, I would like to invite you to dinner.\n",
      "Hello Hamza, please join me for dinner.\n",
      "Hello Taha, it would be great to have you at dinner.\n",
      "Hello Shahzaib, you are warmly invited to dinner.\n",
      "['Abdullah', 'Hamza', 'Taha', 'Shahzaib']\n",
      "4\n"
     ]
    }
   ],
   "source": [
    "'''You just heard that one of your guests cant make the dinner, so you need to send out a new set of invitations.\n",
    "\n",
    "Start with your program from Exercise 3-4. Add a print() call at the end of your program, stating the name of the guest who cant make it.'''\n",
    "# One guest can't make it\n",
    "unavailable_guest = \"Saim\"\n",
    "print(f\"\\nUnfortunately, {unavailable_guest} can't make it to the dinner.\")\n",
    "\n",
    "# Modify your list, replacing the name of the guest who can’t make it with the name of the new person you are inviting\n",
    "# Replacing the unavailable guest using insert\n",
    "new_guest = \"Hamza\"\n",
    "guests.remove(unavailable_guest)  # Remove the unavailable guest\n",
    "guests.insert(1, new_guest)  # Add the new guest in the same position\n",
    "print(guests)\n",
    "print(len(guests))\n",
    "\n",
    "# Print a second set of invitation messages, one for each person who is still in your list.\n",
    "# Printing updated invitations\n",
    "print(\n",
    "    f\"\\nHello {guests[0]}, I would like to invite you to dinner.\\n\"\n",
    "    f\"Hello {guests[1]}, please join me for dinner.\\n\"\n",
    "    f\"Hello {guests[2]}, it would be great to have you at dinner.\\n\"\n",
    "    f\"Hello {guests[3]}, you are warmly invited to dinner.\"\n",
    ")\n",
    "print(guests)\n",
    "print(len(guests))\n",
    "\n"
   ]
  },
  {
   "cell_type": "markdown",
   "metadata": {},
   "source": [
    "Exercise 3-6: More Guests\n"
   ]
  },
  {
   "cell_type": "code",
   "execution_count": 76,
   "metadata": {},
   "outputs": [
    {
     "name": "stdout",
     "output_type": "stream",
     "text": [
      "\n",
      "Good news! I found a bigger dinner table, so I am inviting more guests.\n",
      "['Ali', 'Abdullah', 'Hamza', 'Bilal', 'Taha', 'Shahzaib', 'Zain']\n",
      "7\n",
      "\n",
      "Hello Ali, I would like to invite you to dinner.\n",
      "Hello Abdullah, please join me for dinner.\n",
      "Hello Hamza, it would be great to have you at dinner.\n",
      "Hello Bilal, you are warmly invited to dinner.\n",
      "Hello Taha, please join me for dinner.\n",
      "Hello Shahzaib, it would be great to have you at dinner.\n",
      "Hello Zain, you are warmly invited to dinner.\n"
     ]
    }
   ],
   "source": [
    "'''You just found a bigger dinner table, so now more space is available. Think of three more guests to invite to dinner.\n",
    "\n",
    "Start with your program from Exercise 3-4 or 3-5. Add a print() call to the end of your program, informing people that you found a bigger table.'''\n",
    "# Informing about the bigger table\n",
    "\n",
    "print(\"\\nGood news! I found a bigger dinner table, so I am inviting more guests.\")\n",
    "\n",
    "# Use insert() to add one new guest to the beginning of your list.\n",
    "# Use insert() to add one new guest to the middle of your list.\n",
    "# Use append() to add one new guest to the end of your list.\n",
    "# Print a new set of invitation messages, one for each person in your list.\n",
    "\n",
    "# Adding three more guests\n",
    "guests.insert(0, \"Ali\")  # Adding at the beginning\n",
    "guests.insert(3, \"Bilal\")  # Adding in the middle\n",
    "guests.append(\"Zain\")  # Adding at the end\n",
    "print(guests)\n",
    "print(len(guests))\n",
    "\n",
    "# # Printing updated invitations\n",
    "print(\n",
    "    f\"\\nHello {guests[0]}, I would like to invite you to dinner.\\n\"\n",
    "    f\"Hello {guests[1]}, please join me for dinner.\\n\"\n",
    "    f\"Hello {guests[2]}, it would be great to have you at dinner.\\n\"\n",
    "    f\"Hello {guests[3]}, you are warmly invited to dinner.\\n\"\n",
    "    f\"Hello {guests[4]}, please join me for dinner.\\n\"\n",
    "    f\"Hello {guests[5]}, it would be great to have you at dinner.\\n\"\n",
    "    f\"Hello {guests[6]}, you are warmly invited to dinner.\"\n",
    ")"
   ]
  },
  {
   "cell_type": "markdown",
   "metadata": {},
   "source": [
    "Exercise 3-7: Shrinking Guest List\n"
   ]
  },
  {
   "cell_type": "code",
   "execution_count": 77,
   "metadata": {},
   "outputs": [
    {
     "name": "stdout",
     "output_type": "stream",
     "text": [
      "\n",
      "Unfortunately, my new dinner table won't arrive in time, so I can invite only two people for dinner.\n",
      "Sorry Zain, I can't invite you to dinner.\n",
      "['Ali', 'Abdullah', 'Hamza', 'Bilal', 'Taha', 'Shahzaib']\n",
      "6\n",
      "Sorry Shahzaib, I can't invite you to dinner.\n",
      "['Ali', 'Abdullah', 'Hamza', 'Bilal', 'Taha']\n",
      "5\n",
      "Sorry Taha, I can't invite you to dinner.\n",
      "['Ali', 'Abdullah', 'Hamza', 'Bilal']\n",
      "4\n",
      "Sorry Bilal, I can't invite you to dinner.\n",
      "['Ali', 'Abdullah', 'Hamza']\n",
      "3\n",
      "Sorry Hamza, I can't invite you to dinner.\n",
      "['Ali', 'Abdullah']\n",
      "2\n",
      "\n",
      "Hello Ali, you are still invited to dinner.\n",
      "Hello Abdullah, you are still invited to dinner.\n",
      "Updated guest list: []\n"
     ]
    }
   ],
   "source": [
    "'''You just found out that your new dinner table wont arrive in time for the dinner, and now you have space for only two guests.\n",
    "\n",
    "Start with your program from Exercise 3-6. Add a new line that prints a message saying that you can invite only two people for dinner.'''\n",
    "# Informing about the new situation\n",
    "\n",
    "print(\"\\nUnfortunately, my new dinner table won't arrive in time, so I can invite only two people for dinner.\")\n",
    "\n",
    "# Removing guests one by one and printing messages\n",
    "\n",
    "removed_guest = guests.pop()  # Remove the last guest\n",
    "print(f\"Sorry {removed_guest}, I can't invite you to dinner.\")\n",
    "print(guests)\n",
    "print(len(guests))\n",
    "\n",
    "removed_guest = guests.pop()  # Remove another guest\n",
    "print(f\"Sorry {removed_guest}, I can't invite you to dinner.\")\n",
    "print(guests)\n",
    "print(len(guests))\n",
    "\n",
    "removed_guest = guests.pop()  # Remove another guest\n",
    "print(f\"Sorry {removed_guest}, I can't invite you to dinner.\")\n",
    "print(guests)\n",
    "print(len(guests))\n",
    "\n",
    "removed_guest = guests.pop()  # Remove another guest\n",
    "print(f\"Sorry {removed_guest}, I can't invite you to dinner.\")\n",
    "print(guests)\n",
    "print(len(guests))\n",
    "\n",
    "removed_guest = guests.pop()  # Remove another guest\n",
    "print(f\"Sorry {removed_guest}, I can't invite you to dinner.\")\n",
    "print(guests)\n",
    "print(len(guests))\n",
    "\n",
    "# Print a message to each of the two people still on your list, letting them know they’re still invited.\n",
    "# Printing final invitations\n",
    "print(\n",
    "    f\"\\nHello {guests[0]}, you are still invited to dinner.\\n\"\n",
    "    f\"Hello {guests[1]}, you are still invited to dinner.\"\n",
    ")\n",
    "# Use del to remove the last two names from your list, so you have an empty list. \n",
    "# Print your list to make sure you actually have an empty list at the end of your program.\n",
    "# Clear the list entirely\n",
    "del guests[0:]  # This removes all elements in the list\n",
    "print(\"Updated guest list:\", guests)  # This should now be empty\n"
   ]
  },
  {
   "cell_type": "markdown",
   "metadata": {},
   "source": [
    "Exercise 3-8: Seeing the World:"
   ]
  },
  {
   "cell_type": "code",
   "execution_count": 78,
   "metadata": {},
   "outputs": [
    {
     "name": "stdout",
     "output_type": "stream",
     "text": [
      "['Machu Picchu', 'Tokyo', 'Sydney', 'Grand Canyon', 'Paris']\n",
      "['Grand Canyon', 'Machu Picchu', 'Paris', 'Sydney', 'Tokyo']\n",
      "['Machu Picchu', 'Tokyo', 'Sydney', 'Grand Canyon', 'Paris']\n",
      "['Tokyo', 'Sydney', 'Paris', 'Machu Picchu', 'Grand Canyon']\n",
      "['Machu Picchu', 'Tokyo', 'Sydney', 'Grand Canyon', 'Paris']\n",
      "['Paris', 'Grand Canyon', 'Sydney', 'Tokyo', 'Machu Picchu']\n",
      "['Grand Canyon', 'Machu Picchu', 'Paris', 'Sydney', 'Tokyo']\n"
     ]
    }
   ],
   "source": [
    "# Think of at least five places in the world you’d like to visit.\n",
    "# Store the locations in a list. Make sure the list is not in alphabetical order.\n",
    "\n",
    "places_to_visit = [\"Machu Picchu\", \"Tokyo\", \"Sydney\", \"Grand Canyon\", \"Paris\"]\n",
    "# Print your list in its original order. Don’t worry about printing the list neatly; just print it as a raw Python list\n",
    "print(places_to_visit)\n",
    "# Use sorted() to print your list in alphabetical order without modifying the actual list.\n",
    "print(sorted(places_to_visit))\n",
    "# Show that your list is still in its original order by printing it.\n",
    "\n",
    "# Print the original list to show it's unchanged\n",
    "print(places_to_visit)\n",
    "# Use sorted() to print your list in reverse-alphabetical order without changing the order of the original list.\n",
    "print(sorted(places_to_visit, reverse=True))\n",
    "# Show that your list is still in its original order by printing it again.\n",
    "print(places_to_visit)\n",
    "# Use reverse() to change the order of your list. Print the list to show that its order has changed.\n",
    "# Reverse the order of the list\n",
    "places_to_visit.reverse()\n",
    "# Use reverse() to change the order of your list again. Print the list to show it’s back to its original order.\n",
    "# Print the list to show that its order has changed\n",
    "print(places_to_visit)\n",
    "# Use sort() to change your list so it’s stored in alphabetical order. Print the list to show that its order has been changed.\n",
    "# Sort the list in alphabetical order\n",
    "places_to_visit.sort()\n",
    "# Use sort() to change your list so it’s stored in reverse-alphabetical order. Print the list to show that its order has changed.\n",
    "# Print the list to show that its order has changed\n",
    "print(places_to_visit)\n",
    "\n",
    "\n"
   ]
  },
  {
   "cell_type": "markdown",
   "metadata": {},
   "source": [
    "Exercise 3-10: Every Function:\n",
    "\n",
    "Think of things you could store in a list. For example, you could make a list of mountains, rivers, countries, cities, languages, or anything else you’d like. Write a program that creates a list containing these items and then uses each function introduced in this chapter at least once."
   ]
  },
  {
   "cell_type": "code",
   "execution_count": 79,
   "metadata": {},
   "outputs": [
    {
     "name": "stdout",
     "output_type": "stream",
     "text": [
      "After append: ['Mount Everest', 'K2', 'Kangchenjunga', 'Lhotse', 'Makalu', 'Mount Fuji']\n",
      "After insert: ['Mount Everest', 'Mont Blanc', 'K2', 'Kangchenjunga', 'Lhotse', 'Makalu', 'Mount Fuji']\n",
      "After remove: ['Mount Everest', 'Mont Blanc', 'K2', 'Kangchenjunga', 'Makalu', 'Mount Fuji']\n",
      "Popped mountain: Mount Fuji\n",
      "After pop: ['Mount Everest', 'Mont Blanc', 'K2', 'Kangchenjunga', 'Makalu']\n",
      "After sort: ['K2', 'Kangchenjunga', 'Makalu', 'Mont Blanc', 'Mount Everest']\n",
      "After reverse: ['Mount Everest', 'Mont Blanc', 'Makalu', 'Kangchenjunga', 'K2']\n",
      "Sorted (without changing original): ['K2', 'Kangchenjunga', 'Makalu', 'Mont Blanc', 'Mount Everest']\n",
      "Original list after sorted(): ['Mount Everest', 'Mont Blanc', 'Makalu', 'Kangchenjunga', 'K2']\n"
     ]
    }
   ],
   "source": [
    "# List of mountains\n",
    "mountains = [\"Mount Everest\", \"K2\", \"Kangchenjunga\", \"Lhotse\", \"Makalu\"]\n",
    "\n",
    "# Append a new mountain to the list\n",
    "mountains.append(\"Mount Fuji\")\n",
    "print(\"After append:\", mountains)\n",
    "\n",
    "# Insert a mountain at the second position (index 1)\n",
    "mountains.insert(1, \"Mont Blanc\")\n",
    "print(\"After insert:\", mountains)\n",
    "\n",
    "# Remove a mountain from the list by name\n",
    "mountains.remove(\"Lhotse\")\n",
    "print(\"After remove:\", mountains)\n",
    "\n",
    "# Pop the last mountain from the list\n",
    "popped_mountain = mountains.pop()\n",
    "print(\"Popped mountain:\", popped_mountain)\n",
    "print(\"After pop:\", mountains)\n",
    "\n",
    "# Sort the list in alphabetical order\n",
    "mountains.sort()\n",
    "print(\"After sort:\", mountains)\n",
    "\n",
    "# Reverse the list order\n",
    "mountains.reverse()\n",
    "print(\"After reverse:\", mountains)\n",
    "\n",
    "# Use sorted() to print the list in alphabetical order without changing the original list\n",
    "print(\"Sorted (without changing original):\", sorted(mountains))\n",
    "\n",
    "# Print the original list to show it has not been changed by sorted()\n",
    "print(\"Original list after sorted():\", mountains)\n"
   ]
  },
  {
   "cell_type": "code",
   "execution_count": null,
   "metadata": {},
   "outputs": [],
   "source": []
  }
 ],
 "metadata": {
  "kernelspec": {
   "display_name": "Python 3",
   "language": "python",
   "name": "python3"
  },
  "language_info": {
   "codemirror_mode": {
    "name": "ipython",
    "version": 3
   },
   "file_extension": ".py",
   "mimetype": "text/x-python",
   "name": "python",
   "nbconvert_exporter": "python",
   "pygments_lexer": "ipython3",
   "version": "3.13.1"
  }
 },
 "nbformat": 4,
 "nbformat_minor": 2
}
